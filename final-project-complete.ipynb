{
 "cells": [
  {
   "cell_type": "code",
   "execution_count": 1,
   "id": "802e524c",
   "metadata": {
    "execution": {
     "iopub.execute_input": "2025-05-12T14:51:05.568702Z",
     "iopub.status.busy": "2025-05-12T14:51:05.568289Z",
     "iopub.status.idle": "2025-05-12T14:51:13.240903Z",
     "shell.execute_reply": "2025-05-12T14:51:13.239572Z"
    },
    "papermill": {
     "duration": 7.682168,
     "end_time": "2025-05-12T14:51:13.242911",
     "exception": false,
     "start_time": "2025-05-12T14:51:05.560743",
     "status": "completed"
    },
    "tags": []
   },
   "outputs": [],
   "source": [
    "import polars as pl\n",
    "import polars.selectors as cs\n",
    "import gzip\n",
    "import requests\n",
    "import optuna\n",
    "import io\n"
   ]
  },
  {
   "cell_type": "code",
   "execution_count": 2,
   "id": "a23cb7be",
   "metadata": {
    "execution": {
     "iopub.execute_input": "2025-05-12T14:51:13.256937Z",
     "iopub.status.busy": "2025-05-12T14:51:13.256204Z",
     "iopub.status.idle": "2025-05-12T14:51:13.261828Z",
     "shell.execute_reply": "2025-05-12T14:51:13.260641Z"
    },
    "papermill": {
     "duration": 0.015302,
     "end_time": "2025-05-12T14:51:13.264371",
     "exception": false,
     "start_time": "2025-05-12T14:51:13.249069",
     "status": "completed"
    },
    "tags": []
   },
   "outputs": [
    {
     "data": {
      "text/plain": [
       "\"\\nfrom sklearnex import patch_sklearn\\nimport logging\\nlogger = logging.getLogger('sklearnex')\\nlogger.setLevel(logging.WARNING)\\npatch_sklearn()\\n\""
      ]
     },
     "execution_count": 2,
     "metadata": {},
     "output_type": "execute_result"
    }
   ],
   "source": [
    "\"\"\"\n",
    "from sklearnex import patch_sklearn\n",
    "import logging\n",
    "logger = logging.getLogger('sklearnex')\n",
    "logger.setLevel(logging.WARNING)\n",
    "patch_sklearn()\n",
    "\"\"\""
   ]
  },
  {
   "cell_type": "markdown",
   "id": "e8bfec54",
   "metadata": {
    "papermill": {
     "duration": 0.007083,
     "end_time": "2025-05-12T14:51:13.278854",
     "exception": false,
     "start_time": "2025-05-12T14:51:13.271771",
     "status": "completed"
    },
    "tags": []
   },
   "source": [
    "# Motivation\n",
    "Airbnb is a platform in which essentially anyone is able to rent out spare space in their homes. In a consistently evolving market, remaining competitive in pricing can be difficult for the average user. As such creating a model that is able to predict costs accurate may result in the maximization of an individuals potential income by remaining competitive. By using freely available data, one could automate this task and set pricing automatically based on factors relating to their home and current market trends. The prediction of a continous value is a regression problem. Notably this pipeline could be extended to much more data as there is more data on the website, however for the sake of time and computational power I have limited it here to just boston. Due to many features, with enough data collection this could potentially be a good test case for a deep learning model in fact. Additionally knowing what results in higher prices, may allow those posting on the site to add these things to their own listings to increase value. The value to be predicted here is the daily price charge for airbnb listings."
   ]
  },
  {
   "cell_type": "markdown",
   "id": "31521a61",
   "metadata": {
    "papermill": {
     "duration": 0.00622,
     "end_time": "2025-05-12T14:51:13.292659",
     "exception": false,
     "start_time": "2025-05-12T14:51:13.286439",
     "status": "completed"
    },
    "tags": []
   },
   "source": [
    "# Preprocessing\n",
    "Because this data is both quite messy and also contains a plethora of data for potential analysis preprocessing needs to be performed before making an accurate assessment of the underlying data itself.This data is fetched from insideairbnb which scrapes airbnb listings."
   ]
  },
  {
   "cell_type": "code",
   "execution_count": 3,
   "id": "5d0e3c1a",
   "metadata": {
    "execution": {
     "iopub.execute_input": "2025-05-12T14:51:13.307076Z",
     "iopub.status.busy": "2025-05-12T14:51:13.306710Z",
     "iopub.status.idle": "2025-05-12T14:51:13.312675Z",
     "shell.execute_reply": "2025-05-12T14:51:13.311282Z"
    },
    "papermill": {
     "duration": 0.015121,
     "end_time": "2025-05-12T14:51:13.314783",
     "exception": false,
     "start_time": "2025-05-12T14:51:13.299662",
     "status": "completed"
    },
    "tags": []
   },
   "outputs": [],
   "source": [
    "# Hardcode the compressed files to be used for this analysis these links could be scraped off the page if more data was required\n",
    "listing_urls = [\n",
    "    \"https://data.insideairbnb.com/united-states/ma/boston/2025-03-15/data/listings.csv.gz\",\n",
    "    \"https://data.insideairbnb.com/united-states/ma/boston/2024-12-20/data/listings.csv.gz\",\n",
    "    \"https://data.insideairbnb.com/united-states/ma/boston/2024-09-18/data/listings.csv.gz\",\n",
    "    \"https://data.insideairbnb.com/united-states/ma/boston/2024-06-22/data/listings.csv.gz\"\n",
    "]"
   ]
  },
  {
   "cell_type": "code",
   "execution_count": 4,
   "id": "3614d1bc",
   "metadata": {
    "execution": {
     "iopub.execute_input": "2025-05-12T14:51:13.328553Z",
     "iopub.status.busy": "2025-05-12T14:51:13.328212Z",
     "iopub.status.idle": "2025-05-12T14:51:14.402014Z",
     "shell.execute_reply": "2025-05-12T14:51:14.400653Z"
    },
    "papermill": {
     "duration": 1.083218,
     "end_time": "2025-05-12T14:51:14.403967",
     "exception": false,
     "start_time": "2025-05-12T14:51:13.320749",
     "status": "completed"
    },
    "tags": []
   },
   "outputs": [
    {
     "name": "stdout",
     "output_type": "stream",
     "text": [
      "Downloading: https://data.insideairbnb.com/united-states/ma/boston/2025-03-15/data/listings.csv.gz\n",
      "Downloading: https://data.insideairbnb.com/united-states/ma/boston/2024-12-20/data/listings.csv.gz\n",
      "Downloading: https://data.insideairbnb.com/united-states/ma/boston/2024-09-18/data/listings.csv.gz\n",
      "Downloading: https://data.insideairbnb.com/united-states/ma/boston/2024-06-22/data/listings.csv.gz\n"
     ]
    }
   ],
   "source": [
    "# Fetch the data from insideairbnb, create a list for each dataframe, them concatenate them all together\n",
    "# Diagonal allows there to be inconsistent column names\n",
    "def concatenate_data(urls:list) -> pl.DataFrame:\n",
    "    dfs = []    \n",
    "    for url in urls:\n",
    "        print(f\"Downloading: {url}\")\n",
    "        response = requests.get(url)\n",
    "        response.raise_for_status()\n",
    "\n",
    "        with gzip.GzipFile(fileobj=io.BytesIO(response.content)) as f:\n",
    "            df = pl.read_csv(f)\n",
    "            dfs.append(df)\n",
    "    combined = pl.concat(dfs, how=\"diagonal\")\n",
    "    return combined\n",
    "\n",
    "\n",
    "listings = concatenate_data(listing_urls)"
   ]
  },
  {
   "cell_type": "code",
   "execution_count": 5,
   "id": "04e61660",
   "metadata": {
    "execution": {
     "iopub.execute_input": "2025-05-12T14:51:14.417899Z",
     "iopub.status.busy": "2025-05-12T14:51:14.417579Z",
     "iopub.status.idle": "2025-05-12T14:51:14.490403Z",
     "shell.execute_reply": "2025-05-12T14:51:14.489294Z"
    },
    "papermill": {
     "duration": 0.081414,
     "end_time": "2025-05-12T14:51:14.492147",
     "exception": false,
     "start_time": "2025-05-12T14:51:14.410733",
     "status": "completed"
    },
    "tags": []
   },
   "outputs": [],
   "source": [
    "# Drop Unneeded Columns\n",
    "# Although potentially useful, too many features for kaggles lowly cpu power\n",
    "# Also many redundant features\n",
    "drop = [\n",
    "    'listing_url',\n",
    "    'scrape_id',\n",
    "    'source',\n",
    "    'picture_url',\n",
    "    'host_id',\n",
    "    'host_url',\n",
    "    'host_name',\n",
    "    'host_thumbnail_url',\n",
    "    'host_picture_url',\n",
    "    'neighbourhood',\n",
    "    'neighbourhood_group_cleansed',\n",
    "    'bathrooms_text',\n",
    "    'calendar_updated',\n",
    "    'calendar_last_scraped',\n",
    "    'review_scores_cleanliness',\n",
    "    'review_scores_communication',\n",
    "    'review_scores_location',\n",
    "    'review_scores_value',\n",
    "    'license',\n",
    "    'host_verifications',\n",
    "    'amenities', # So this is likely a useful column however since there is basically an infinite amount of combinations not doing this for kaggle, will probably use this for my own personal portfolio however\n",
    "    'first_review',\n",
    "    'last_review'\n",
    "]\n",
    "listings_red = listings.drop(drop)\n",
    "# Since we are prediciting price (Per Night) we can't have nulls\n",
    "listings_red = listings_red.filter(pl.col(\"price\").is_not_null())"
   ]
  },
  {
   "cell_type": "code",
   "execution_count": 6,
   "id": "25a9af92",
   "metadata": {
    "execution": {
     "iopub.execute_input": "2025-05-12T14:51:14.505033Z",
     "iopub.status.busy": "2025-05-12T14:51:14.504697Z",
     "iopub.status.idle": "2025-05-12T14:51:14.573134Z",
     "shell.execute_reply": "2025-05-12T14:51:14.571941Z"
    },
    "papermill": {
     "duration": 0.076685,
     "end_time": "2025-05-12T14:51:14.574809",
     "exception": false,
     "start_time": "2025-05-12T14:51:14.498124",
     "status": "completed"
    },
    "tags": []
   },
   "outputs": [
    {
     "data": {
      "text/html": [
       "<div><style>\n",
       ".dataframe > thead > tr,\n",
       ".dataframe > tbody > tr {\n",
       "  text-align: right;\n",
       "  white-space: pre-wrap;\n",
       "}\n",
       "</style>\n",
       "<small>shape: (9, 57)</small><table border=\"1\" class=\"dataframe\"><thead><tr><th>statistic</th><th>id</th><th>last_scraped</th><th>name</th><th>description</th><th>neighborhood_overview</th><th>host_since</th><th>host_location</th><th>host_about</th><th>host_response_time</th><th>host_response_rate</th><th>host_acceptance_rate</th><th>host_is_superhost</th><th>host_neighbourhood</th><th>host_listings_count</th><th>host_total_listings_count</th><th>host_has_profile_pic</th><th>host_identity_verified</th><th>neighbourhood_cleansed</th><th>latitude</th><th>longitude</th><th>property_type</th><th>room_type</th><th>accommodates</th><th>bathrooms</th><th>bedrooms</th><th>beds</th><th>price</th><th>minimum_nights</th><th>maximum_nights</th><th>minimum_minimum_nights</th><th>maximum_minimum_nights</th><th>minimum_maximum_nights</th><th>maximum_maximum_nights</th><th>minimum_nights_avg_ntm</th><th>maximum_nights_avg_ntm</th><th>has_availability</th><th>availability_30</th><th>availability_60</th><th>availability_90</th><th>availability_365</th><th>number_of_reviews</th><th>number_of_reviews_ltm</th><th>number_of_reviews_l30d</th><th>availability_eoy</th><th>number_of_reviews_ly</th><th>estimated_occupancy_l365d</th><th>estimated_revenue_l365d</th><th>review_scores_rating</th><th>review_scores_accuracy</th><th>review_scores_checkin</th><th>instant_bookable</th><th>calculated_host_listings_count</th><th>calculated_host_listings_count_entire_homes</th><th>calculated_host_listings_count_private_rooms</th><th>calculated_host_listings_count_shared_rooms</th><th>reviews_per_month</th></tr><tr><td>str</td><td>f64</td><td>str</td><td>str</td><td>str</td><td>str</td><td>str</td><td>str</td><td>str</td><td>str</td><td>str</td><td>str</td><td>str</td><td>str</td><td>f64</td><td>f64</td><td>str</td><td>str</td><td>str</td><td>f64</td><td>f64</td><td>str</td><td>str</td><td>f64</td><td>f64</td><td>f64</td><td>f64</td><td>str</td><td>f64</td><td>f64</td><td>f64</td><td>f64</td><td>f64</td><td>f64</td><td>f64</td><td>f64</td><td>str</td><td>f64</td><td>f64</td><td>f64</td><td>f64</td><td>f64</td><td>f64</td><td>f64</td><td>f64</td><td>f64</td><td>f64</td><td>f64</td><td>f64</td><td>f64</td><td>f64</td><td>str</td><td>f64</td><td>f64</td><td>f64</td><td>f64</td><td>f64</td></tr></thead><tbody><tr><td>&quot;count&quot;</td><td>14394.0</td><td>&quot;14394&quot;</td><td>&quot;14394&quot;</td><td>&quot;14139&quot;</td><td>&quot;8627&quot;</td><td>&quot;14394&quot;</td><td>&quot;11420&quot;</td><td>&quot;14394&quot;</td><td>&quot;14394&quot;</td><td>&quot;14394&quot;</td><td>&quot;14394&quot;</td><td>&quot;13684&quot;</td><td>&quot;14156&quot;</td><td>14394.0</td><td>14394.0</td><td>&quot;14394&quot;</td><td>&quot;14394&quot;</td><td>&quot;14394&quot;</td><td>14394.0</td><td>14394.0</td><td>&quot;14394&quot;</td><td>&quot;14394&quot;</td><td>14394.0</td><td>14394.0</td><td>14394.0</td><td>14321.0</td><td>&quot;14394&quot;</td><td>14394.0</td><td>14394.0</td><td>14394.0</td><td>14394.0</td><td>14394.0</td><td>14394.0</td><td>14394.0</td><td>14394.0</td><td>&quot;14286&quot;</td><td>14394.0</td><td>14394.0</td><td>14394.0</td><td>14394.0</td><td>14394.0</td><td>14394.0</td><td>14394.0</td><td>3643.0</td><td>3643.0</td><td>3643.0</td><td>3643.0</td><td>11183.0</td><td>11175.0</td><td>11172.0</td><td>&quot;14394&quot;</td><td>14394.0</td><td>14394.0</td><td>14394.0</td><td>14394.0</td><td>11183.0</td></tr><tr><td>&quot;null_count&quot;</td><td>0.0</td><td>&quot;0&quot;</td><td>&quot;0&quot;</td><td>&quot;255&quot;</td><td>&quot;5767&quot;</td><td>&quot;0&quot;</td><td>&quot;2974&quot;</td><td>&quot;0&quot;</td><td>&quot;0&quot;</td><td>&quot;0&quot;</td><td>&quot;0&quot;</td><td>&quot;710&quot;</td><td>&quot;238&quot;</td><td>0.0</td><td>0.0</td><td>&quot;0&quot;</td><td>&quot;0&quot;</td><td>&quot;0&quot;</td><td>0.0</td><td>0.0</td><td>&quot;0&quot;</td><td>&quot;0&quot;</td><td>0.0</td><td>0.0</td><td>0.0</td><td>73.0</td><td>&quot;0&quot;</td><td>0.0</td><td>0.0</td><td>0.0</td><td>0.0</td><td>0.0</td><td>0.0</td><td>0.0</td><td>0.0</td><td>&quot;108&quot;</td><td>0.0</td><td>0.0</td><td>0.0</td><td>0.0</td><td>0.0</td><td>0.0</td><td>0.0</td><td>10751.0</td><td>10751.0</td><td>10751.0</td><td>10751.0</td><td>3211.0</td><td>3219.0</td><td>3222.0</td><td>&quot;0&quot;</td><td>0.0</td><td>0.0</td><td>0.0</td><td>0.0</td><td>3211.0</td></tr><tr><td>&quot;mean&quot;</td><td>5.7492e17</td><td>null</td><td>null</td><td>null</td><td>null</td><td>null</td><td>null</td><td>null</td><td>null</td><td>null</td><td>null</td><td>null</td><td>null</td><td>513.429137</td><td>631.42344</td><td>null</td><td>null</td><td>null</td><td>42.336903</td><td>-71.082271</td><td>null</td><td>null</td><td>3.280186</td><td>1.242775</td><td>1.437057</td><td>1.825641</td><td>null</td><td>21.73878</td><td>549.732736</td><td>20.663332</td><td>51.039183</td><td>1.4926e6</td><td>5.8192e6</td><td>22.719446</td><td>3.4803e6</td><td>null</td><td>12.512992</td><td>29.746075</td><td>50.024038</td><td>223.848895</td><td>54.093859</td><td>14.239614</td><td>0.974712</td><td>179.848477</td><td>14.155092</td><td>94.146857</td><td>17248.791106</td><td>4.728003</td><td>4.773264</td><td>4.836794</td><td>null</td><td>58.299639</td><td>50.466792</td><td>7.427817</td><td>0.007573</td><td>1.966001</td></tr><tr><td>&quot;std&quot;</td><td>5.0515e17</td><td>null</td><td>null</td><td>null</td><td>null</td><td>null</td><td>null</td><td>null</td><td>null</td><td>null</td><td>null</td><td>null</td><td>null</td><td>1385.141848</td><td>1536.383816</td><td>null</td><td>null</td><td>null</td><td>0.027067</td><td>0.03199</td><td>null</td><td>null</td><td>2.373383</td><td>0.59104</td><td>1.148753</td><td>1.538555</td><td>null</td><td>29.228722</td><td>412.290613</td><td>28.41392</td><td>97.279105</td><td>5.6585e7</td><td>1.1163e8</td><td>29.28356</td><td>7.5659e7</td><td>null</td><td>11.01729</td><td>21.232284</td><td>30.485852</td><td>109.248141</td><td>100.909914</td><td>22.751987</td><td>2.010581</td><td>88.5405</td><td>23.942094</td><td>101.491773</td><td>26071.644009</td><td>0.402128</td><td>0.362888</td><td>0.378163</td><td>null</td><td>104.537569</td><td>104.741613</td><td>25.046333</td><td>0.104167</td><td>2.098252</td></tr><tr><td>&quot;min&quot;</td><td>3781.0</td><td>&quot;2024-06-22&quot;</td><td>&quot;&quot;Casita&quot; on the Water - Harbor…</td><td>&quot;&quot;Discover comfort and convenie…</td><td>&quot;&quot;Affluent Back Bay is a shoppi…</td><td>&quot;2008-12-03&quot;</td><td>&quot;Acton, MA&quot;</td><td>&quot;&quot;</td><td>&quot;N/A&quot;</td><td>&quot;0%&quot;</td><td>&quot;0%&quot;</td><td>&quot;f&quot;</td><td>&quot;Allapattah&quot;</td><td>1.0</td><td>1.0</td><td>&quot;f&quot;</td><td>&quot;f&quot;</td><td>&quot;Allston&quot;</td><td>42.2353</td><td>-71.17402</td><td>&quot;Boat&quot;</td><td>&quot;Entire home/apt&quot;</td><td>1.0</td><td>0.0</td><td>0.0</td><td>0.0</td><td>&quot;$1,000.00&quot;</td><td>1.0</td><td>1.0</td><td>1.0</td><td>1.0</td><td>1.0</td><td>1.0</td><td>1.0</td><td>1.0</td><td>&quot;t&quot;</td><td>0.0</td><td>0.0</td><td>0.0</td><td>0.0</td><td>0.0</td><td>0.0</td><td>0.0</td><td>0.0</td><td>0.0</td><td>0.0</td><td>0.0</td><td>1.0</td><td>0.0</td><td>0.0</td><td>&quot;f&quot;</td><td>1.0</td><td>0.0</td><td>0.0</td><td>0.0</td><td>0.01</td></tr><tr><td>&quot;25%&quot;</td><td>4.1708678e7</td><td>null</td><td>null</td><td>null</td><td>null</td><td>null</td><td>null</td><td>null</td><td>null</td><td>null</td><td>null</td><td>null</td><td>null</td><td>3.0</td><td>4.0</td><td>null</td><td>null</td><td>null</td><td>42.32212</td><td>-71.096313</td><td>null</td><td>null</td><td>2.0</td><td>1.0</td><td>1.0</td><td>1.0</td><td>null</td><td>1.0</td><td>365.0</td><td>1.0</td><td>3.0</td><td>365.0</td><td>365.0</td><td>2.0</td><td>365.0</td><td>null</td><td>1.0</td><td>11.0</td><td>24.0</td><td>137.0</td><td>1.0</td><td>0.0</td><td>0.0</td><td>116.0</td><td>0.0</td><td>0.0</td><td>0.0</td><td>4.67</td><td>4.71</td><td>4.83</td><td>null</td><td>2.0</td><td>1.0</td><td>0.0</td><td>0.0</td><td>0.37</td></tr><tr><td>&quot;50%&quot;</td><td>6.9985e17</td><td>null</td><td>null</td><td>null</td><td>null</td><td>null</td><td>null</td><td>null</td><td>null</td><td>null</td><td>null</td><td>null</td><td>null</td><td>17.0</td><td>24.0</td><td>null</td><td>null</td><td>null</td><td>42.34441</td><td>-71.07409</td><td>null</td><td>null</td><td>2.0</td><td>1.0</td><td>1.0</td><td>1.0</td><td>null</td><td>4.0</td><td>365.0</td><td>3.0</td><td>8.0</td><td>365.0</td><td>365.0</td><td>5.0</td><td>365.0</td><td>null</td><td>11.0</td><td>29.0</td><td>53.0</td><td>244.0</td><td>12.0</td><td>3.0</td><td>0.0</td><td>196.0</td><td>2.0</td><td>58.0</td><td>7200.0</td><td>4.83</td><td>4.87</td><td>4.94</td><td>null</td><td>10.0</td><td>4.0</td><td>0.0</td><td>0.0</td><td>1.28</td></tr><tr><td>&quot;75%&quot;</td><td>1.0261e18</td><td>null</td><td>null</td><td>null</td><td>null</td><td>null</td><td>null</td><td>null</td><td>null</td><td>null</td><td>null</td><td>null</td><td>null</td><td>112.0</td><td>143.0</td><td>null</td><td>null</td><td>null</td><td>42.35401</td><td>-71.061948</td><td>null</td><td>null</td><td>4.0</td><td>1.5</td><td>2.0</td><td>2.0</td><td>null</td><td>30.0</td><td>1125.0</td><td>30.0</td><td>30.0</td><td>1125.0</td><td>1125.0</td><td>30.0</td><td>1125.0</td><td>null</td><td>23.0</td><td>50.0</td><td>78.0</td><td>323.0</td><td>61.0</td><td>21.0</td><td>1.0</td><td>257.0</td><td>21.0</td><td>186.0</td><td>25600.0</td><td>4.97</td><td>4.98</td><td>5.0</td><td>null</td><td>62.0</td><td>49.0</td><td>3.0</td><td>0.0</td><td>3.0</td></tr><tr><td>&quot;max&quot;</td><td>1.3763e18</td><td>&quot;2025-03-15&quot;</td><td>&quot;💎Newly Renovated🌳Walk to MGH🏨L…</td><td>&quot;📍Center of Boston, Across from…</td><td>&quot;📍The Fenway neighborhood is a …</td><td>&quot;2025-02-24&quot;</td><td>&quot;Wellesley, MA&quot;</td><td>&quot;“It is often the small steps, …</td><td>&quot;within an hour&quot;</td><td>&quot;N/A&quot;</td><td>&quot;N/A&quot;</td><td>&quot;t&quot;</td><td>&quot;alcaldia cuauhtemoc&quot;</td><td>5282.0</td><td>8151.0</td><td>&quot;t&quot;</td><td>&quot;t&quot;</td><td>&quot;West Roxbury&quot;</td><td>42.391317</td><td>-70.996</td><td>&quot;Shared room in vacation home&quot;</td><td>&quot;Shared room&quot;</td><td>16.0</td><td>8.0</td><td>13.0</td><td>22.0</td><td>&quot;$997.00&quot;</td><td>400.0</td><td>1125.0</td><td>400.0</td><td>400.0</td><td>2.1475e9</td><td>2.1475e9</td><td>400.0</td><td>2.1475e9</td><td>&quot;t&quot;</td><td>30.0</td><td>60.0</td><td>90.0</td><td>365.0</td><td>1076.0</td><td>387.0</td><td>42.0</td><td>292.0</td><td>344.0</td><td>255.0</td><td>260355.0</td><td>5.0</td><td>5.0</td><td>5.0</td><td>&quot;t&quot;</td><td>385.0</td><td>385.0</td><td>155.0</td><td>4.0</td><td>24.92</td></tr></tbody></table></div>"
      ],
      "text/plain": [
       "shape: (9, 57)\n",
       "┌───────────┬───────────┬───────────┬───────────┬───┬───────────┬───────────┬───────────┬──────────┐\n",
       "│ statistic ┆ id        ┆ last_scra ┆ name      ┆ … ┆ calculate ┆ calculate ┆ calculate ┆ reviews_ │\n",
       "│ ---       ┆ ---       ┆ ped       ┆ ---       ┆   ┆ d_host_li ┆ d_host_li ┆ d_host_li ┆ per_mont │\n",
       "│ str       ┆ f64       ┆ ---       ┆ str       ┆   ┆ stings_co ┆ stings_co ┆ stings_co ┆ h        │\n",
       "│           ┆           ┆ str       ┆           ┆   ┆ unt…      ┆ unt…      ┆ unt…      ┆ ---      │\n",
       "│           ┆           ┆           ┆           ┆   ┆ ---       ┆ ---       ┆ ---       ┆ f64      │\n",
       "│           ┆           ┆           ┆           ┆   ┆ f64       ┆ f64       ┆ f64       ┆          │\n",
       "╞═══════════╪═══════════╪═══════════╪═══════════╪═══╪═══════════╪═══════════╪═══════════╪══════════╡\n",
       "│ count     ┆ 14394.0   ┆ 14394     ┆ 14394     ┆ … ┆ 14394.0   ┆ 14394.0   ┆ 14394.0   ┆ 11183.0  │\n",
       "│ null_coun ┆ 0.0       ┆ 0         ┆ 0         ┆ … ┆ 0.0       ┆ 0.0       ┆ 0.0       ┆ 3211.0   │\n",
       "│ t         ┆           ┆           ┆           ┆   ┆           ┆           ┆           ┆          │\n",
       "│ mean      ┆ 5.7492e17 ┆ null      ┆ null      ┆ … ┆ 50.466792 ┆ 7.427817  ┆ 0.007573  ┆ 1.966001 │\n",
       "│ std       ┆ 5.0515e17 ┆ null      ┆ null      ┆ … ┆ 104.74161 ┆ 25.046333 ┆ 0.104167  ┆ 2.098252 │\n",
       "│           ┆           ┆           ┆           ┆   ┆ 3         ┆           ┆           ┆          │\n",
       "│ min       ┆ 3781.0    ┆ 2024-06-2 ┆ \"Casita\"  ┆ … ┆ 0.0       ┆ 0.0       ┆ 0.0       ┆ 0.01     │\n",
       "│           ┆           ┆ 2         ┆ on the    ┆   ┆           ┆           ┆           ┆          │\n",
       "│           ┆           ┆           ┆ Water -   ┆   ┆           ┆           ┆           ┆          │\n",
       "│           ┆           ┆           ┆ Harbor…   ┆   ┆           ┆           ┆           ┆          │\n",
       "│ 25%       ┆ 4.1708678 ┆ null      ┆ null      ┆ … ┆ 1.0       ┆ 0.0       ┆ 0.0       ┆ 0.37     │\n",
       "│           ┆ e7        ┆           ┆           ┆   ┆           ┆           ┆           ┆          │\n",
       "│ 50%       ┆ 6.9985e17 ┆ null      ┆ null      ┆ … ┆ 4.0       ┆ 0.0       ┆ 0.0       ┆ 1.28     │\n",
       "│ 75%       ┆ 1.0261e18 ┆ null      ┆ null      ┆ … ┆ 49.0      ┆ 3.0       ┆ 0.0       ┆ 3.0      │\n",
       "│ max       ┆ 1.3763e18 ┆ 2025-03-1 ┆ 💎Newly   ┆ … ┆ 385.0     ┆ 155.0     ┆ 4.0       ┆ 24.92    │\n",
       "│           ┆           ┆ 5         ┆ Renovated ┆   ┆           ┆           ┆           ┆          │\n",
       "│           ┆           ┆           ┆ 🌳Walk to ┆   ┆           ┆           ┆           ┆          │\n",
       "│           ┆           ┆           ┆ MGH🏨L…   ┆   ┆           ┆           ┆           ┆          │\n",
       "└───────────┴───────────┴───────────┴───────────┴───┴───────────┴───────────┴───────────┴──────────┘"
      ]
     },
     "execution_count": 6,
     "metadata": {},
     "output_type": "execute_result"
    }
   ],
   "source": [
    "# Get a general sense of the data\n",
    "listings_red.describe()"
   ]
  },
  {
   "cell_type": "code",
   "execution_count": 7,
   "id": "176749dc",
   "metadata": {
    "execution": {
     "iopub.execute_input": "2025-05-12T14:51:14.589561Z",
     "iopub.status.busy": "2025-05-12T14:51:14.589187Z",
     "iopub.status.idle": "2025-05-12T14:51:14.595435Z",
     "shell.execute_reply": "2025-05-12T14:51:14.593913Z"
    },
    "papermill": {
     "duration": 0.015874,
     "end_time": "2025-05-12T14:51:14.597372",
     "exception": false,
     "start_time": "2025-05-12T14:51:14.581498",
     "status": "completed"
    },
    "tags": []
   },
   "outputs": [],
   "source": [
    "# Label column types for later operations\n",
    "\n",
    "# These columns are text based and will receive tfidf\n",
    "text_cols = [\n",
    "    'name',\n",
    "    'description',\n",
    "    'neighborhood_overview',\n",
    "    'host_about'\n",
    "]\n",
    "\n",
    "# Categorical columns to be one hot encoded\n",
    "text_cols_cat = [\n",
    "    'host_location',\n",
    "    'host_response_time',\n",
    "    'host_neighbourhood',\n",
    "    'property_type',\n",
    "    'room_type',\n",
    "    'neighbourhood_cleansed'\n",
    "]\n",
    "\n",
    "# These columns are converted to binary values\n",
    "bool_cols = [\n",
    "    'host_is_superhost',\n",
    "    'host_has_profile_pic',\n",
    "    'host_identity_verified',\n",
    "    'has_availability',\n",
    "    'instant_bookable'\n",
    "]\n",
    "\n",
    "# The rest of the columns are numeric"
   ]
  },
  {
   "cell_type": "code",
   "execution_count": 8,
   "id": "12bd5317",
   "metadata": {
    "execution": {
     "iopub.execute_input": "2025-05-12T14:51:14.611947Z",
     "iopub.status.busy": "2025-05-12T14:51:14.611591Z",
     "iopub.status.idle": "2025-05-12T14:51:14.632494Z",
     "shell.execute_reply": "2025-05-12T14:51:14.631455Z"
    },
    "papermill": {
     "duration": 0.030619,
     "end_time": "2025-05-12T14:51:14.634310",
     "exception": false,
     "start_time": "2025-05-12T14:51:14.603691",
     "status": "completed"
    },
    "tags": []
   },
   "outputs": [],
   "source": [
    "# Convert any \"boolean\" columns to binary encoding\n",
    "for col in bool_cols:\n",
    "    listings_red = listings_red.with_columns(\n",
    "        pl.when(pl.col(col) == \"t\")\n",
    "        .then(1)\n",
    "        .otherwise(0)\n",
    "        .alias(col)\n",
    "    )"
   ]
  },
  {
   "cell_type": "code",
   "execution_count": 9,
   "id": "823245ea",
   "metadata": {
    "execution": {
     "iopub.execute_input": "2025-05-12T14:51:14.648374Z",
     "iopub.status.busy": "2025-05-12T14:51:14.647969Z",
     "iopub.status.idle": "2025-05-12T14:51:14.718329Z",
     "shell.execute_reply": "2025-05-12T14:51:14.717043Z"
    },
    "papermill": {
     "duration": 0.079507,
     "end_time": "2025-05-12T14:51:14.720144",
     "exception": false,
     "start_time": "2025-05-12T14:51:14.640637",
     "status": "completed"
    },
    "tags": []
   },
   "outputs": [],
   "source": [
    "# Convert rows with percentages to \n",
    "import re\n",
    "def percentage_to_decimal(text):\n",
    "    if text:\n",
    "        try:\n",
    "            clean_text = re.sub(\"[^[0-9]\", \"\", text)\n",
    "            val = int(clean_text) / 100\n",
    "            return val\n",
    "        except:\n",
    "            return None\n",
    "    else:\n",
    "        return None\n",
    "\n",
    "# Apply the function\n",
    "listings_red = listings_red.with_columns([\n",
    "    pl.col(\"host_acceptance_rate\").map_elements(percentage_to_decimal, return_dtype=pl.Float64).alias(\"host_acceptance_rate\"),\n",
    "    pl.col(\"host_response_rate\").map_elements(percentage_to_decimal, return_dtype=pl.Float64).alias(\"host_response_rate\")\n",
    "])"
   ]
  },
  {
   "cell_type": "code",
   "execution_count": 10,
   "id": "4236ff78",
   "metadata": {
    "execution": {
     "iopub.execute_input": "2025-05-12T14:51:14.734320Z",
     "iopub.status.busy": "2025-05-12T14:51:14.734004Z",
     "iopub.status.idle": "2025-05-12T14:51:14.749375Z",
     "shell.execute_reply": "2025-05-12T14:51:14.748330Z"
    },
    "papermill": {
     "duration": 0.024652,
     "end_time": "2025-05-12T14:51:14.751335",
     "exception": false,
     "start_time": "2025-05-12T14:51:14.726683",
     "status": "completed"
    },
    "tags": []
   },
   "outputs": [],
   "source": [
    "# Get rid of dollar sings\n",
    "listings_red = listings_red.with_columns(pl.col(\"price\").str.replace(r\"\\$\", \"\"))"
   ]
  },
  {
   "cell_type": "code",
   "execution_count": 11,
   "id": "78bbed73",
   "metadata": {
    "execution": {
     "iopub.execute_input": "2025-05-12T14:51:14.765852Z",
     "iopub.status.busy": "2025-05-12T14:51:14.765495Z",
     "iopub.status.idle": "2025-05-12T14:51:14.786181Z",
     "shell.execute_reply": "2025-05-12T14:51:14.784858Z"
    },
    "papermill": {
     "duration": 0.030314,
     "end_time": "2025-05-12T14:51:14.788182",
     "exception": false,
     "start_time": "2025-05-12T14:51:14.757868",
     "status": "completed"
    },
    "tags": []
   },
   "outputs": [],
   "source": [
    "# Derive the length the listing has existed\n",
    "listings_red = listings_red.with_columns(\n",
    "    pl.col(\"host_since\").str.strptime(pl.Date, \"%Y-%m-%d\").alias(\"start_date_dt\"),\n",
    "    pl.col(\"last_scraped\").str.strptime(pl.Date, \"%Y-%m-%d\").alias(\"end_date_dt\"),\n",
    ").with_columns(\n",
    "    (pl.col(\"end_date_dt\") - pl.col(\"start_date_dt\")).alias(\"listing_age\").dt.total_days()\n",
    ").drop([\"host_since\", \"last_scraped\",\"start_date_dt\",\"end_date_dt\"])"
   ]
  },
  {
   "cell_type": "code",
   "execution_count": 12,
   "id": "fceea3cb",
   "metadata": {
    "execution": {
     "iopub.execute_input": "2025-05-12T14:51:14.805789Z",
     "iopub.status.busy": "2025-05-12T14:51:14.805416Z",
     "iopub.status.idle": "2025-05-12T14:51:14.911090Z",
     "shell.execute_reply": "2025-05-12T14:51:14.909720Z"
    },
    "papermill": {
     "duration": 0.117655,
     "end_time": "2025-05-12T14:51:14.913201",
     "exception": false,
     "start_time": "2025-05-12T14:51:14.795546",
     "status": "completed"
    },
    "tags": []
   },
   "outputs": [],
   "source": [
    "# Now we can split the data to avoid any leakage\n",
    "from sklearn.model_selection import train_test_split\n",
    "\n",
    "X = listings_red.drop(['price', 'id'])\n",
    "y = listings_red.select('price')\n",
    "\n",
    "X_train, X_test, y_train, y_test = train_test_split(\n",
    "    X,\n",
    "    y,\n",
    "    test_size = 0.2,\n",
    "    random_state = 66\n",
    ")"
   ]
  },
  {
   "cell_type": "code",
   "execution_count": 13,
   "id": "ef9bab07",
   "metadata": {
    "execution": {
     "iopub.execute_input": "2025-05-12T14:51:14.931887Z",
     "iopub.status.busy": "2025-05-12T14:51:14.930211Z",
     "iopub.status.idle": "2025-05-12T14:51:14.968953Z",
     "shell.execute_reply": "2025-05-12T14:51:14.967812Z"
    },
    "papermill": {
     "duration": 0.048888,
     "end_time": "2025-05-12T14:51:14.971080",
     "exception": false,
     "start_time": "2025-05-12T14:51:14.922192",
     "status": "completed"
    },
    "tags": []
   },
   "outputs": [],
   "source": [
    "# One hot encode our categorical columns\n",
    "X_train_clean = X_train.to_dummies(\n",
    "    drop_first = True,\n",
    "    columns = text_cols_cat\n",
    ")\n",
    "X_test_clean = X_test.to_dummies(\n",
    "    drop_first = True,\n",
    "    columns = text_cols_cat\n",
    ")"
   ]
  },
  {
   "cell_type": "code",
   "execution_count": 14,
   "id": "a4b95869",
   "metadata": {
    "execution": {
     "iopub.execute_input": "2025-05-12T14:51:14.985989Z",
     "iopub.status.busy": "2025-05-12T14:51:14.985669Z",
     "iopub.status.idle": "2025-05-12T14:51:14.990370Z",
     "shell.execute_reply": "2025-05-12T14:51:14.989553Z"
    },
    "papermill": {
     "duration": 0.013785,
     "end_time": "2025-05-12T14:51:14.991956",
     "exception": false,
     "start_time": "2025-05-12T14:51:14.978171",
     "status": "completed"
    },
    "tags": []
   },
   "outputs": [],
   "source": [
    "train_columns = X_train_clean.columns\n",
    "test_columns = X_test_clean.columns"
   ]
  },
  {
   "cell_type": "code",
   "execution_count": 15,
   "id": "b6a64f3a",
   "metadata": {
    "execution": {
     "iopub.execute_input": "2025-05-12T14:51:15.006539Z",
     "iopub.status.busy": "2025-05-12T14:51:15.006151Z",
     "iopub.status.idle": "2025-05-12T14:51:15.025420Z",
     "shell.execute_reply": "2025-05-12T14:51:15.024477Z"
    },
    "papermill": {
     "duration": 0.028819,
     "end_time": "2025-05-12T14:51:15.027409",
     "exception": false,
     "start_time": "2025-05-12T14:51:14.998590",
     "status": "completed"
    },
    "tags": []
   },
   "outputs": [],
   "source": [
    "# Make sure our columns are the same and fill any missing columns with 0\n",
    "missing_columns_test = set(train_columns) - set(test_columns)\n",
    "missing_columns_train = set(test_columns) - set(train_columns)\n",
    "\n",
    "for col in missing_columns_train:\n",
    "    X_train_clean = X_train_clean.with_columns(pl.lit(0).alias(col))\n",
    "\n",
    "for col in missing_columns_test:\n",
    "    X_test_clean = X_test_clean.with_columns(pl.lit(0).alias(col))"
   ]
  },
  {
   "cell_type": "code",
   "execution_count": 16,
   "id": "15630a2d",
   "metadata": {
    "execution": {
     "iopub.execute_input": "2025-05-12T14:51:15.042068Z",
     "iopub.status.busy": "2025-05-12T14:51:15.041732Z",
     "iopub.status.idle": "2025-05-12T14:51:15.051575Z",
     "shell.execute_reply": "2025-05-12T14:51:15.049863Z"
    },
    "papermill": {
     "duration": 0.019255,
     "end_time": "2025-05-12T14:51:15.053368",
     "exception": false,
     "start_time": "2025-05-12T14:51:15.034113",
     "status": "completed"
    },
    "tags": []
   },
   "outputs": [],
   "source": [
    "# Fix any column order issues and then throw error if not\n",
    "column_order = sorted(X_train_clean.columns)\n",
    "X_train_clean = X_train_clean.select(column_order)\n",
    "X_test_clean = X_test_clean.select(column_order)\n",
    "\n",
    "assert X_train_clean.columns == X_test_clean.columns"
   ]
  },
  {
   "cell_type": "code",
   "execution_count": 17,
   "id": "8c8f4c7c",
   "metadata": {
    "execution": {
     "iopub.execute_input": "2025-05-12T14:51:15.068117Z",
     "iopub.status.busy": "2025-05-12T14:51:15.067772Z",
     "iopub.status.idle": "2025-05-12T15:03:53.788488Z",
     "shell.execute_reply": "2025-05-12T15:03:53.787410Z"
    },
    "papermill": {
     "duration": 758.730537,
     "end_time": "2025-05-12T15:03:53.790518",
     "exception": false,
     "start_time": "2025-05-12T14:51:15.059981",
     "status": "completed"
    },
    "tags": []
   },
   "outputs": [],
   "source": [
    "# Do imputation for missing data using RandomForest\n",
    "from sklearn.ensemble import RandomForestRegressor\n",
    "from sklearn.experimental import enable_iterative_imputer\n",
    "from sklearn.impute import IterativeImputer\n",
    "\n",
    "numeric = X_train_clean.select(cs.numeric()).columns\n",
    "\n",
    "non_numeric = X_train_clean.select(~cs.numeric()).columns\n",
    "\n",
    "imp = IterativeImputer(estimator = RandomForestRegressor(random_state=66, n_jobs=-1))\n",
    "imp.fit(X_train_clean[numeric])\n",
    "X_train_imputed = imp.transform(X_train_clean[numeric])\n",
    "X_test_imputed = imp.transform(X_test_clean[numeric])"
   ]
  },
  {
   "cell_type": "code",
   "execution_count": 18,
   "id": "8abae75f",
   "metadata": {
    "execution": {
     "iopub.execute_input": "2025-05-12T15:03:53.806106Z",
     "iopub.status.busy": "2025-05-12T15:03:53.805766Z",
     "iopub.status.idle": "2025-05-12T15:03:53.816171Z",
     "shell.execute_reply": "2025-05-12T15:03:53.815137Z"
    },
    "papermill": {
     "duration": 0.020579,
     "end_time": "2025-05-12T15:03:53.818499",
     "exception": false,
     "start_time": "2025-05-12T15:03:53.797920",
     "status": "completed"
    },
    "tags": []
   },
   "outputs": [],
   "source": [
    "# After pulling out only the columns that need to be imputed convert them back to dataframes\n",
    "X_train_imputed_numeric = pl.DataFrame(X_train_imputed, schema=numeric)\n",
    "X_test_imputed_numeric = pl.DataFrame(X_test_imputed, schema=numeric)"
   ]
  },
  {
   "cell_type": "code",
   "execution_count": 19,
   "id": "b6314755",
   "metadata": {
    "execution": {
     "iopub.execute_input": "2025-05-12T15:03:53.833305Z",
     "iopub.status.busy": "2025-05-12T15:03:53.832985Z",
     "iopub.status.idle": "2025-05-12T15:03:53.839063Z",
     "shell.execute_reply": "2025-05-12T15:03:53.837872Z"
    },
    "papermill": {
     "duration": 0.015596,
     "end_time": "2025-05-12T15:03:53.840851",
     "exception": false,
     "start_time": "2025-05-12T15:03:53.825255",
     "status": "completed"
    },
    "tags": []
   },
   "outputs": [],
   "source": [
    "# Combine the imputed values with the text columns\n",
    "X_train_fin = pl.concat([X_train_clean[non_numeric],X_train_imputed_numeric], how='horizontal')\n",
    "X_test_fin = pl.concat([X_test_clean[non_numeric],X_test_imputed_numeric], how='horizontal')"
   ]
  },
  {
   "cell_type": "code",
   "execution_count": 20,
   "id": "d46bdc2d",
   "metadata": {
    "execution": {
     "iopub.execute_input": "2025-05-12T15:03:53.855749Z",
     "iopub.status.busy": "2025-05-12T15:03:53.855368Z",
     "iopub.status.idle": "2025-05-12T15:03:55.948930Z",
     "shell.execute_reply": "2025-05-12T15:03:55.947801Z"
    },
    "papermill": {
     "duration": 2.103352,
     "end_time": "2025-05-12T15:03:55.951077",
     "exception": false,
     "start_time": "2025-05-12T15:03:53.847725",
     "status": "completed"
    },
    "tags": []
   },
   "outputs": [],
   "source": [
    "# Automate the removal of outliers using IsolationForest\n",
    "from sklearn.ensemble import IsolationForest\n",
    "X_train_temp = X_train_fin.drop(~cs.numeric())\n",
    "iso_forest = IsolationForest(n_jobs=-1)\n",
    "mask_np = iso_forest.fit_predict(X_train_temp) != -1\n",
    "mask = pl.Series(mask_np)\n",
    "X_train_fin, y_train_fin = X_train_fin.filter(mask), y_train.filter(mask)"
   ]
  },
  {
   "cell_type": "code",
   "execution_count": 21,
   "id": "5a1640ef",
   "metadata": {
    "execution": {
     "iopub.execute_input": "2025-05-12T15:03:55.966298Z",
     "iopub.status.busy": "2025-05-12T15:03:55.965968Z",
     "iopub.status.idle": "2025-05-12T15:03:55.980108Z",
     "shell.execute_reply": "2025-05-12T15:03:55.979006Z"
    },
    "papermill": {
     "duration": 0.023988,
     "end_time": "2025-05-12T15:03:55.981956",
     "exception": false,
     "start_time": "2025-05-12T15:03:55.957968",
     "status": "completed"
    },
    "tags": []
   },
   "outputs": [],
   "source": [
    "# Make sure any missing text in our text columns is filled as blank to avoid errors\n",
    "X_train_fin = X_train_fin.with_columns([\n",
    "    pl.col(col).fill_null(\"\") for col in text_cols\n",
    "])\n",
    "\n",
    "X_test_fin = X_test_fin.with_columns([\n",
    "    pl.col(col).fill_null(\"\") for col in text_cols\n",
    "])"
   ]
  },
  {
   "cell_type": "code",
   "execution_count": 22,
   "id": "7d378ead",
   "metadata": {
    "execution": {
     "iopub.execute_input": "2025-05-12T15:03:55.998870Z",
     "iopub.status.busy": "2025-05-12T15:03:55.997114Z",
     "iopub.status.idle": "2025-05-12T15:03:56.010813Z",
     "shell.execute_reply": "2025-05-12T15:03:56.009477Z"
    },
    "papermill": {
     "duration": 0.023963,
     "end_time": "2025-05-12T15:03:56.012943",
     "exception": false,
     "start_time": "2025-05-12T15:03:55.988980",
     "status": "completed"
    },
    "tags": []
   },
   "outputs": [],
   "source": [
    "# Make sure these columns are actual floats and not strings\n",
    "y_train_fin = (\n",
    "    y_train_fin\n",
    "    .with_columns(\n",
    "        pl.col(\"price\").str.replace(\",\",\"\").cast(pl.Float64)\n",
    "    )\n",
    ")\n",
    "y_test = (\n",
    "    y_test\n",
    "    .with_columns(\n",
    "        pl.col(\"price\").str.replace(\",\",\"\").cast(pl.Float64)\n",
    "    )\n",
    ")"
   ]
  },
  {
   "cell_type": "markdown",
   "id": "910f96fe",
   "metadata": {
    "papermill": {
     "duration": 0.008548,
     "end_time": "2025-05-12T15:03:56.029154",
     "exception": false,
     "start_time": "2025-05-12T15:03:56.020606",
     "status": "completed"
    },
    "tags": []
   },
   "source": [
    "# Descriptives (basic)\n",
    "Of course these descriptive will only apply to the training set since we don't technically know the distribution of the test data. Fortunately I have intentionally ignored it's existence here almost entirely in the code."
   ]
  },
  {
   "cell_type": "code",
   "execution_count": 23,
   "id": "7a6eb057",
   "metadata": {
    "execution": {
     "iopub.execute_input": "2025-05-12T15:03:56.050459Z",
     "iopub.status.busy": "2025-05-12T15:03:56.049083Z",
     "iopub.status.idle": "2025-05-12T15:03:56.557694Z",
     "shell.execute_reply": "2025-05-12T15:03:56.556411Z"
    },
    "papermill": {
     "duration": 0.519922,
     "end_time": "2025-05-12T15:03:56.560086",
     "exception": false,
     "start_time": "2025-05-12T15:03:56.040164",
     "status": "completed"
    },
    "tags": []
   },
   "outputs": [
    {
     "data": {
      "text/plain": [
       "Text(0, 0.5, 'Count')"
      ]
     },
     "execution_count": 23,
     "metadata": {},
     "output_type": "execute_result"
    },
    {
     "data": {
      "image/png": "[encoded data removed]",
      "text/plain": [
       "<Figure size 640x480 with 1 Axes>"
      ]
     },
     "metadata": {},
     "output_type": "display_data"
    }
   ],
   "source": [
    "import matplotlib.pyplot as plt\n",
    "plt.hist(y_train_fin, bins=100)\n",
    "plt.xlim(0, 2000)\n",
    "plt.title('Visualization of Training Set Price')\n",
    "plt.xlabel('Price Per Night (USD)')\n",
    "plt.ylabel('Count')\n",
    "# Notably very skewed to the right since I am using regression likely a transformation would be helpful\n",
    "# Additionally if we wanted to interpret the data we could afterwards wtih inverse_transform"
   ]
  },
  {
   "cell_type": "code",
   "execution_count": 24,
   "id": "b55f1ee8",
   "metadata": {
    "execution": {
     "iopub.execute_input": "2025-05-12T15:03:56.579097Z",
     "iopub.status.busy": "2025-05-12T15:03:56.578772Z",
     "iopub.status.idle": "2025-05-12T15:03:56.699541Z",
     "shell.execute_reply": "2025-05-12T15:03:56.698093Z"
    },
    "papermill": {
     "duration": 0.133778,
     "end_time": "2025-05-12T15:03:56.701872",
     "exception": false,
     "start_time": "2025-05-12T15:03:56.568094",
     "status": "completed"
    },
    "tags": []
   },
   "outputs": [],
   "source": [
    "#Use box-cox transform\n",
    "from sklearn.preprocessing import PowerTransformer\n",
    "normalizer = PowerTransformer(method='box-cox', standardize=False)\n",
    "normalizer.fit(y_train_fin)\n",
    "y_train_fin = pl.DataFrame(normalizer.transform(y_train_fin), schema = ['price'])\n",
    "y_test = pl.DataFrame(normalizer.transform(y_test), schema = ['price'])"
   ]
  },
  {
   "cell_type": "code",
   "execution_count": 25,
   "id": "870e30e3",
   "metadata": {
    "execution": {
     "iopub.execute_input": "2025-05-12T15:03:56.719135Z",
     "iopub.status.busy": "2025-05-12T15:03:56.718807Z",
     "iopub.status.idle": "2025-05-12T15:03:57.218124Z",
     "shell.execute_reply": "2025-05-12T15:03:57.216738Z"
    },
    "papermill": {
     "duration": 0.510668,
     "end_time": "2025-05-12T15:03:57.220249",
     "exception": false,
     "start_time": "2025-05-12T15:03:56.709581",
     "status": "completed"
    },
    "tags": []
   },
   "outputs": [
    {
     "data": {
      "text/plain": [
       "Text(0, 0.5, 'Count')"
      ]
     },
     "execution_count": 25,
     "metadata": {},
     "output_type": "execute_result"
    },
    {
     "data": {
      "image/png": "[encoded data removed]",
      "text/plain": [
       "<Figure size 640x480 with 1 Axes>"
      ]
     },
     "metadata": {},
     "output_type": "display_data"
    }
   ],
   "source": [
    "plt.hist(y_train_fin, bins=100)\n",
    "plt.title('Visualization of Training Set Price')\n",
    "plt.xlabel('Price Per Night Normalized')\n",
    "plt.ylabel('Count')"
   ]
  },
  {
   "cell_type": "code",
   "execution_count": 26,
   "id": "75762da5",
   "metadata": {
    "execution": {
     "iopub.execute_input": "2025-05-12T15:03:57.249316Z",
     "iopub.status.busy": "2025-05-12T15:03:57.249005Z",
     "iopub.status.idle": "2025-05-12T15:03:57.255649Z",
     "shell.execute_reply": "2025-05-12T15:03:57.254109Z"
    },
    "papermill": {
     "duration": 0.023339,
     "end_time": "2025-05-12T15:03:57.257446",
     "exception": false,
     "start_time": "2025-05-12T15:03:57.234107",
     "status": "completed"
    },
    "tags": []
   },
   "outputs": [
    {
     "name": "stdout",
     "output_type": "stream",
     "text": [
      "Number of Columns 371\n",
      "Number of Training Rows 11515\n",
      "Number of Test Rows 2879\n"
     ]
    }
   ],
   "source": [
    "# What does our actual data look like?\n",
    "\n",
    "# This is of course before we vectorize our text so it's probably a bit more than this\n",
    "print(f\"Number of Columns {X_train_fin.width}\")\n",
    "print(f\"Number of Training Rows {X_train_fin.height}\")\n",
    "# Unfortunately we've got a very small test size but again ties into not wanting the models to run forever giving the number of features\n",
    "print(f\"Number of Test Rows {X_test_fin.height}\")"
   ]
  },
  {
   "cell_type": "code",
   "execution_count": 27,
   "id": "f11f2ef0",
   "metadata": {
    "execution": {
     "iopub.execute_input": "2025-05-12T15:03:57.283784Z",
     "iopub.status.busy": "2025-05-12T15:03:57.282813Z",
     "iopub.status.idle": "2025-05-12T15:03:57.293485Z",
     "shell.execute_reply": "2025-05-12T15:03:57.292450Z"
    },
    "papermill": {
     "duration": 0.025156,
     "end_time": "2025-05-12T15:03:57.295152",
     "exception": false,
     "start_time": "2025-05-12T15:03:57.269996",
     "status": "completed"
    },
    "tags": []
   },
   "outputs": [
    {
     "name": "stdout",
     "output_type": "stream",
     "text": [
      "Columns with nulls: []\n",
      "Columns with nulls: []\n"
     ]
    }
   ],
   "source": [
    "# No nulls\n",
    "null_counts = X_train_fin.null_count()\n",
    "cols_with_nulls = [col for col in null_counts.columns if null_counts[0, col] > 0]\n",
    "\n",
    "print(\"Columns with nulls:\", cols_with_nulls)\n",
    "\n",
    "null_counts = X_test_fin.null_count()\n",
    "cols_with_nulls = [col for col in null_counts.columns if null_counts[0, col] > 0]\n",
    "\n",
    "print(\"Columns with nulls:\", cols_with_nulls)"
   ]
  },
  {
   "cell_type": "code",
   "execution_count": 28,
   "id": "a8905298",
   "metadata": {
    "execution": {
     "iopub.execute_input": "2025-05-12T15:03:57.314072Z",
     "iopub.status.busy": "2025-05-12T15:03:57.313783Z",
     "iopub.status.idle": "2025-05-12T15:03:57.425654Z",
     "shell.execute_reply": "2025-05-12T15:03:57.424612Z"
    },
    "papermill": {
     "duration": 0.124044,
     "end_time": "2025-05-12T15:03:57.427515",
     "exception": false,
     "start_time": "2025-05-12T15:03:57.303471",
     "status": "completed"
    },
    "tags": []
   },
   "outputs": [],
   "source": [
    "from sklearn.metrics import mean_squared_error\n",
    "# Older versions of sklearn do not play nicely with polars dataframes (Kaggle)\n",
    "#X_train_fin = X_train_fin.to_pandas()\n",
    "#X_test_fin = X_test_fin.to_pandas()\n",
    "#y_train_fin = y_train_fin.to_pandas()\n",
    "#y_train = y_train.to_pandas()"
   ]
  },
  {
   "cell_type": "markdown",
   "id": "3fe40b3c",
   "metadata": {
    "papermill": {
     "duration": 0.008685,
     "end_time": "2025-05-12T15:03:57.444869",
     "exception": false,
     "start_time": "2025-05-12T15:03:57.436184",
     "status": "completed"
    },
    "tags": []
   },
   "source": [
    "# Model Fitting\n",
    "I had originally elected to use Log RSME since the price values are heavily skewed. This however poses a problem: some models (Name XGBoost) predict negative values. This makes the formula invalid. So instead I'll use RSME. This should at least be somewhat robust to outliers and avoid the issue with error. We want a good model that generalizes well not one that optimizes for purely high prices in this case."
   ]
  },
  {
   "cell_type": "code",
   "execution_count": 29,
   "id": "83cf05ba",
   "metadata": {
    "execution": {
     "iopub.execute_input": "2025-05-12T15:03:57.535673Z",
     "iopub.status.busy": "2025-05-12T15:03:57.535105Z",
     "iopub.status.idle": "2025-05-12T15:03:57.873995Z",
     "shell.execute_reply": "2025-05-12T15:03:57.873055Z"
    },
    "papermill": {
     "duration": 0.352002,
     "end_time": "2025-05-12T15:03:57.875649",
     "exception": false,
     "start_time": "2025-05-12T15:03:57.523647",
     "status": "completed"
    },
    "tags": []
   },
   "outputs": [],
   "source": [
    "# Model fitting time\n",
    "# I've used optuna because it doesn't take nearly as much time as gridsearch since it isn't exhausting\n",
    "# It also optimizes much better than say halving grid search or whatever else scikit has\n",
    "# I also prefer the syntax\n",
    "from sklearn.compose import ColumnTransformer\n",
    "from sklearn.neighbors import KNeighborsRegressor\n",
    "from xgboost import XGBRegressor\n",
    "from sklearn.linear_model import ElasticNet\n",
    "from sklearn.feature_extraction.text import TfidfVectorizer\n",
    "from sklearn.pipeline import Pipeline\n",
    "from sklearn.model_selection import cross_val_score\n",
    "\n",
    "# Since I believe the text to be useful but also unrelated to the other text for the purposes of processing\n",
    "# I apply tfidf to each column. \n",
    "# Certainly this step could be optimized\n",
    "preprocessor = ColumnTransformer(\n",
    "    transformers=[\n",
    "        ('name_tfidf', TfidfVectorizer(stop_words='english'), 'name'),\n",
    "        ('description_tfidf', TfidfVectorizer(stop_words='english'), 'description'),\n",
    "        ('neighborhood_tfidf', TfidfVectorizer(stop_words='english'), 'neighborhood_overview'),\n",
    "        ('host_tfidf', TfidfVectorizer(stop_words='english'), 'host_about')\n",
    "    ]\n",
    ")\n",
    "\n",
    "# KNeighborsRegressor Optimizer\n",
    "def objective_knn(trial):\n",
    "    n_neighbors = trial.suggest_int('n_neighbors', 1, 50)\n",
    "    model = KNeighborsRegressor(n_neighbors=n_neighbors)\n",
    "\n",
    "    pipeline = Pipeline([\n",
    "        ('preprocessor', preprocessor),\n",
    "        ('regressor', model)\n",
    "    ])\n",
    "\n",
    "    score = cross_val_score(pipeline, X_train_fin, y_train_fin, cv=5, scoring='neg_root_mean_squared_error', n_jobs=-1)\n",
    "    return -score.mean()\n",
    "    \n",
    "# XGBRegressor Optimizer\n",
    "def objective_xgb(trial):\n",
    "    reg_lambda = trial.suggest_float('lambda', 1e-4, 1e2)\n",
    "    reg_alpha = trial.suggest_float('alpha', 0.0, 1.0)\n",
    "    model = XGBRegressor(reg_lambda=reg_lambda, reg_alpha=reg_alpha, random_state=66)\n",
    "\n",
    "    pipeline = Pipeline([\n",
    "        ('preprocessor', preprocessor),\n",
    "        ('regressor', model)\n",
    "    ])\n",
    "\n",
    "    score = cross_val_score(pipeline, X_train_fin, y_train_fin, cv=5, scoring='neg_root_mean_squared_error', n_jobs=-1)\n",
    "    return -score.mean()\n",
    "\n",
    "# ElasticNet Optimizer\n",
    "def objective_enet(trial):\n",
    "    alpha = trial.suggest_float('alpha', 1e-4, 1e2)\n",
    "    l1_ratio = trial.suggest_float('l1_ratio', 0.0, 1.0)\n",
    "    model = ElasticNet(alpha=alpha, l1_ratio=l1_ratio, random_state=66)\n",
    "\n",
    "    pipeline = Pipeline([\n",
    "        ('preprocessor', preprocessor),\n",
    "        ('regressor', model)\n",
    "    ])\n",
    "\n",
    "    score = cross_val_score(pipeline, X_train_fin, y_train_fin, cv=5, scoring='neg_root_mean_squared_error', n_jobs=-1)\n",
    "    return -score.mean()\n",
    "\n",
    "#I used 30 trials on my laptop but for the submission using less since it takes too long\n",
    "def optimize_model(objective_func, model_name, n_trials=20):\n",
    "    study = optuna.create_study(direction='minimize')\n",
    "    study.optimize(objective_func, n_trials=n_trials)\n",
    "    best_params = study.best_params\n",
    "    print(f\"Best params for {model_name}: {best_params} /n Best Score: {study.best_value}\")\n",
    "    return best_params\n",
    "    "
   ]
  },
  {
   "cell_type": "code",
   "execution_count": 30,
   "id": "a5149955",
   "metadata": {
    "execution": {
     "iopub.execute_input": "2025-05-12T15:03:57.896036Z",
     "iopub.status.busy": "2025-05-12T15:03:57.895580Z",
     "iopub.status.idle": "2025-05-12T16:11:44.645628Z",
     "shell.execute_reply": "2025-05-12T16:11:44.644403Z"
    },
    "papermill": {
     "duration": 4066.775522,
     "end_time": "2025-05-12T16:11:44.660120",
     "exception": false,
     "start_time": "2025-05-12T15:03:57.884598",
     "status": "completed"
    },
    "tags": []
   },
   "outputs": [
    {
     "name": "stderr",
     "output_type": "stream",
     "text": [
      "[I 2025-05-28 16:06:31,978] A new study created in memory with name: no-name-4d028f4e-cd85-4e69-b186-b847d6193dc8\n",
      "[I 2025-05-28 16:06:36,276] Trial 0 finished with value: 0.27808642783763393 and parameters: {'n_neighbors': 8}. Best is trial 0 with value: 0.27808642783763393.\n",
      "[I 2025-05-28 16:06:39,248] Trial 1 finished with value: 0.34997586947750126 and parameters: {'n_neighbors': 39}. Best is trial 0 with value: 0.27808642783763393.\n",
      "[I 2025-05-28 16:06:42,680] Trial 2 finished with value: 0.262373945667394 and parameters: {'n_neighbors': 5}. Best is trial 2 with value: 0.262373945667394.\n",
      "[I 2025-05-28 16:06:45,307] Trial 3 finished with value: 0.34825205174559876 and parameters: {'n_neighbors': 35}. Best is trial 2 with value: 0.262373945667394.\n",
      "[I 2025-05-28 16:06:48,380] Trial 4 finished with value: 0.2935619520101235 and parameters: {'n_neighbors': 12}. Best is trial 2 with value: 0.262373945667394.\n",
      "[I 2025-05-28 16:06:50,778] Trial 5 finished with value: 0.2935619520101235 and parameters: {'n_neighbors': 12}. Best is trial 2 with value: 0.262373945667394.\n",
      "[I 2025-05-28 16:06:53,074] Trial 6 finished with value: 0.2859722436787471 and parameters: {'n_neighbors': 10}. Best is trial 2 with value: 0.262373945667394.\n",
      "[I 2025-05-28 16:06:55,417] Trial 7 finished with value: 0.3504432612023929 and parameters: {'n_neighbors': 43}. Best is trial 2 with value: 0.262373945667394.\n",
      "[I 2025-05-28 16:06:57,664] Trial 8 finished with value: 0.3398910331487717 and parameters: {'n_neighbors': 28}. Best is trial 2 with value: 0.262373945667394.\n",
      "[I 2025-05-28 16:06:59,883] Trial 9 finished with value: 0.3224759138504002 and parameters: {'n_neighbors': 21}. Best is trial 2 with value: 0.262373945667394.\n",
      "[I 2025-05-28 16:07:01,972] Trial 10 finished with value: 0.24592212184431 and parameters: {'n_neighbors': 2}. Best is trial 10 with value: 0.24592212184431.\n",
      "[I 2025-05-28 16:07:04,010] Trial 11 finished with value: 0.26470707236923013 and parameters: {'n_neighbors': 1}. Best is trial 10 with value: 0.24592212184431.\n",
      "[I 2025-05-28 16:07:06,171] Trial 12 finished with value: 0.24845848243328233 and parameters: {'n_neighbors': 3}. Best is trial 10 with value: 0.24592212184431.\n",
      "[I 2025-05-28 16:07:08,555] Trial 13 finished with value: 0.35077044956682046 and parameters: {'n_neighbors': 50}. Best is trial 10 with value: 0.24592212184431.\n",
      "[I 2025-05-28 16:07:11,034] Trial 14 finished with value: 0.32544336261624246 and parameters: {'n_neighbors': 22}. Best is trial 10 with value: 0.24592212184431.\n",
      "[I 2025-05-28 16:07:13,254] Trial 15 finished with value: 0.30939037900907246 and parameters: {'n_neighbors': 17}. Best is trial 10 with value: 0.24592212184431.\n",
      "[I 2025-05-28 16:07:15,374] Trial 16 finished with value: 0.24592212184431 and parameters: {'n_neighbors': 2}. Best is trial 10 with value: 0.24592212184431.\n",
      "[I 2025-05-28 16:07:17,580] Trial 17 finished with value: 0.3435362638577322 and parameters: {'n_neighbors': 30}. Best is trial 10 with value: 0.24592212184431.\n",
      "[I 2025-05-28 16:07:19,819] Trial 18 finished with value: 0.30599015309201794 and parameters: {'n_neighbors': 16}. Best is trial 10 with value: 0.24592212184431.\n",
      "[I 2025-05-28 16:07:21,920] Trial 19 finished with value: 0.26470707236923013 and parameters: {'n_neighbors': 1}. Best is trial 10 with value: 0.24592212184431.\n"
     ]
    },
    {
     "name": "stdout",
     "output_type": "stream",
     "text": [
      "Best params for KNeighborsRegressor: {'n_neighbors': 2} /n Best Score: 0.24592212184431\n"
     ]
    }
   ],
   "source": [
    "best_knn_params = optimize_model(objective_knn, 'KNeighborsRegressor')"
   ]
  },
  {
   "cell_type": "code",
   "execution_count": 31,
   "id": "6ca669d5",
   "metadata": {
    "execution": {
     "iopub.execute_input": "2025-05-12T16:11:44.685002Z",
     "iopub.status.busy": "2025-05-12T16:11:44.684615Z",
     "iopub.status.idle": "2025-05-12T16:17:23.921548Z",
     "shell.execute_reply": "2025-05-12T16:17:23.920290Z"
    },
    "papermill": {
     "duration": 339.261629,
     "end_time": "2025-05-12T16:17:23.933545",
     "exception": false,
     "start_time": "2025-05-12T16:11:44.671916",
     "status": "completed"
    },
    "tags": []
   },
   "outputs": [
    {
     "name": "stderr",
     "output_type": "stream",
     "text": [
      "[I 2025-05-28 16:07:21,929] A new study created in memory with name: no-name-602f2516-4c8b-46b4-8bc4-479351ced6b1\n",
      "[I 2025-05-28 16:07:32,669] Trial 0 finished with value: 0.2428620934486389 and parameters: {'lambda': 76.41824686245812, 'alpha': 0.405350254650091}. Best is trial 0 with value: 0.2428620934486389.\n",
      "[I 2025-05-28 16:07:42,444] Trial 1 finished with value: 0.23584794402122497 and parameters: {'lambda': 14.952421255517637, 'alpha': 0.6451194203126531}. Best is trial 1 with value: 0.23584794402122497.\n",
      "[I 2025-05-28 16:07:52,752] Trial 2 finished with value: 0.24306821823120117 and parameters: {'lambda': 93.12180749356448, 'alpha': 0.03693980941955388}. Best is trial 1 with value: 0.23584794402122497.\n",
      "[I 2025-05-28 16:08:03,009] Trial 3 finished with value: 0.24302232265472412 and parameters: {'lambda': 74.20739894552966, 'alpha': 0.8179160286219382}. Best is trial 1 with value: 0.23584794402122497.\n",
      "[I 2025-05-28 16:08:13,486] Trial 4 finished with value: 0.24229182302951813 and parameters: {'lambda': 74.98940629625562, 'alpha': 0.41378032548513055}. Best is trial 1 with value: 0.23584794402122497.\n",
      "[I 2025-05-28 16:08:23,644] Trial 5 finished with value: 0.2405595898628235 and parameters: {'lambda': 56.61969238501791, 'alpha': 0.7113258451409893}. Best is trial 1 with value: 0.23584794402122497.\n",
      "[I 2025-05-28 16:08:35,855] Trial 6 finished with value: 0.24236676692962647 and parameters: {'lambda': 81.17503401756004, 'alpha': 0.041903206354121814}. Best is trial 1 with value: 0.23584794402122497.\n",
      "[I 2025-05-28 16:08:45,657] Trial 7 finished with value: 0.23661877810955048 and parameters: {'lambda': 23.38704620237655, 'alpha': 0.2569319010542378}. Best is trial 1 with value: 0.23584794402122497.\n",
      "[I 2025-05-28 16:08:56,146] Trial 8 finished with value: 0.24412857592105866 and parameters: {'lambda': 95.40857080601184, 'alpha': 0.0765336600615979}. Best is trial 1 with value: 0.23584794402122497.\n",
      "[I 2025-05-28 16:09:05,608] Trial 9 finished with value: 0.23207092881202698 and parameters: {'lambda': 9.40665125076831, 'alpha': 0.6998070705889653}. Best is trial 9 with value: 0.23207092881202698.\n",
      "[I 2025-05-28 16:09:14,565] Trial 10 finished with value: 0.22771205604076386 and parameters: {'lambda': 0.2743919205221026, 'alpha': 0.9908889914851716}. Best is trial 10 with value: 0.22771205604076386.\n",
      "[I 2025-05-28 16:09:23,712] Trial 11 finished with value: 0.23288208544254302 and parameters: {'lambda': 5.493007567764353, 'alpha': 0.993202430586282}. Best is trial 10 with value: 0.22771205604076386.\n",
      "[I 2025-05-28 16:09:33,590] Trial 12 finished with value: 0.23731156587600707 and parameters: {'lambda': 31.909897086281347, 'alpha': 0.9662095930182619}. Best is trial 10 with value: 0.22771205604076386.\n",
      "[I 2025-05-28 16:09:42,629] Trial 13 finished with value: 0.2265248715877533 and parameters: {'lambda': 0.24958028399803567, 'alpha': 0.8135953411826848}. Best is trial 13 with value: 0.2265248715877533.\n",
      "[I 2025-05-28 16:09:52,152] Trial 14 finished with value: 0.22791198790073394 and parameters: {'lambda': 1.3338055097810517, 'alpha': 0.8529719570557522}. Best is trial 13 with value: 0.2265248715877533.\n",
      "[I 2025-05-28 16:10:02,172] Trial 15 finished with value: 0.23842606842517852 and parameters: {'lambda': 41.21993568278728, 'alpha': 0.8517522528932864}. Best is trial 13 with value: 0.2265248715877533.\n",
      "[I 2025-05-28 16:10:12,021] Trial 16 finished with value: 0.23503240048885346 and parameters: {'lambda': 22.42102467527823, 'alpha': 0.5132973796796959}. Best is trial 13 with value: 0.2265248715877533.\n",
      "[I 2025-05-28 16:10:22,250] Trial 17 finished with value: 0.2398223340511322 and parameters: {'lambda': 52.368660733577535, 'alpha': 0.9121895404595022}. Best is trial 13 with value: 0.2265248715877533.\n",
      "[I 2025-05-28 16:10:31,164] Trial 18 finished with value: 0.224894180893898 and parameters: {'lambda': 0.07068069290204779, 'alpha': 0.6216621628657075}. Best is trial 18 with value: 0.224894180893898.\n",
      "[I 2025-05-28 16:10:41,669] Trial 19 finished with value: 0.23860513865947724 and parameters: {'lambda': 38.45408816200648, 'alpha': 0.5641383790665184}. Best is trial 18 with value: 0.224894180893898.\n"
     ]
    },
    {
     "name": "stdout",
     "output_type": "stream",
     "text": [
      "Best params for XGBRegressor: {'lambda': 0.07068069290204779, 'alpha': 0.6216621628657075} /n Best Score: 0.224894180893898\n"
     ]
    }
   ],
   "source": [
    "best_xgb_params = optimize_model(objective_xgb, 'XGBRegressor')"
   ]
  },
  {
   "cell_type": "code",
   "execution_count": 32,
   "id": "4baa0aef",
   "metadata": {
    "execution": {
     "iopub.execute_input": "2025-05-12T16:17:23.959847Z",
     "iopub.status.busy": "2025-05-12T16:17:23.959470Z",
     "iopub.status.idle": "2025-05-12T16:17:57.281408Z",
     "shell.execute_reply": "2025-05-12T16:17:57.280127Z"
    },
    "papermill": {
     "duration": 33.337782,
     "end_time": "2025-05-12T16:17:57.283523",
     "exception": false,
     "start_time": "2025-05-12T16:17:23.945741",
     "status": "completed"
    },
    "tags": []
   },
   "outputs": [
    {
     "name": "stderr",
     "output_type": "stream",
     "text": [
      "[I 2025-05-28 16:10:41,681] A new study created in memory with name: no-name-130bae51-3b09-4f9e-9de2-ea1c05c67f6d\n",
      "[I 2025-05-28 16:10:43,384] Trial 0 finished with value: 0.47241931678371074 and parameters: {'alpha': 98.71719091044865, 'l1_ratio': 0.18971073784643555}. Best is trial 0 with value: 0.47241931678371074.\n",
      "[I 2025-05-28 16:10:45,102] Trial 1 finished with value: 0.47241931678371074 and parameters: {'alpha': 2.3089885594234376, 'l1_ratio': 0.6265293477472876}. Best is trial 0 with value: 0.47241931678371074.\n",
      "[I 2025-05-28 16:10:46,816] Trial 2 finished with value: 0.47241931678371074 and parameters: {'alpha': 13.51015025990741, 'l1_ratio': 0.6242150263765683}. Best is trial 0 with value: 0.47241931678371074.\n",
      "[I 2025-05-28 16:10:48,480] Trial 3 finished with value: 0.47241931678371074 and parameters: {'alpha': 49.51518289976635, 'l1_ratio': 0.33803606150114873}. Best is trial 0 with value: 0.47241931678371074.\n",
      "[I 2025-05-28 16:10:50,205] Trial 4 finished with value: 0.47241931678371074 and parameters: {'alpha': 4.049998642394033, 'l1_ratio': 0.4767613883062892}. Best is trial 0 with value: 0.47241931678371074.\n",
      "[I 2025-05-28 16:10:51,910] Trial 5 finished with value: 0.47241931678371074 and parameters: {'alpha': 10.027566170511507, 'l1_ratio': 0.4133224026112724}. Best is trial 0 with value: 0.47241931678371074.\n",
      "[I 2025-05-28 16:10:53,656] Trial 6 finished with value: 0.47241931678371074 and parameters: {'alpha': 59.50029689155503, 'l1_ratio': 0.7796662757334606}. Best is trial 0 with value: 0.47241931678371074.\n",
      "[I 2025-05-28 16:10:55,447] Trial 7 finished with value: 0.47241931678371074 and parameters: {'alpha': 26.813356941111834, 'l1_ratio': 0.05605234643177737}. Best is trial 0 with value: 0.47241931678371074.\n",
      "[I 2025-05-28 16:10:57,113] Trial 8 finished with value: 0.47241931678371074 and parameters: {'alpha': 86.90447698967907, 'l1_ratio': 0.15811782399838614}. Best is trial 0 with value: 0.47241931678371074.\n",
      "[I 2025-05-28 16:10:58,724] Trial 9 finished with value: 0.47241931678371074 and parameters: {'alpha': 14.241228787692084, 'l1_ratio': 0.4716811242123634}. Best is trial 0 with value: 0.47241931678371074.\n",
      "[I 2025-05-28 16:11:00,437] Trial 10 finished with value: 0.47241931678371074 and parameters: {'alpha': 96.66182986969973, 'l1_ratio': 0.9560999589330764}. Best is trial 0 with value: 0.47241931678371074.\n",
      "[I 2025-05-28 16:11:02,049] Trial 11 finished with value: 0.47241931678371074 and parameters: {'alpha': 68.50257331555352, 'l1_ratio': 0.24024338827930913}. Best is trial 0 with value: 0.47241931678371074.\n",
      "[I 2025-05-28 16:11:03,680] Trial 12 finished with value: 0.47241931678371074 and parameters: {'alpha': 37.482073616161436, 'l1_ratio': 0.6620580620069041}. Best is trial 0 with value: 0.47241931678371074.\n",
      "[I 2025-05-28 16:11:05,428] Trial 13 finished with value: 0.47241931678371074 and parameters: {'alpha': 76.54602955599587, 'l1_ratio': 0.6691475970570601}. Best is trial 0 with value: 0.47241931678371074.\n",
      "[I 2025-05-28 16:11:07,037] Trial 14 finished with value: 0.47241931678371074 and parameters: {'alpha': 43.94248232250152, 'l1_ratio': 0.8765530682538684}. Best is trial 0 with value: 0.47241931678371074.\n",
      "[I 2025-05-28 16:11:08,643] Trial 15 finished with value: 0.47241931678371074 and parameters: {'alpha': 30.550701459530508, 'l1_ratio': 0.2800236561174369}. Best is trial 0 with value: 0.47241931678371074.\n",
      "[I 2025-05-28 16:11:10,376] Trial 16 finished with value: 0.47241931678371074 and parameters: {'alpha': 60.63760691094078, 'l1_ratio': 0.0030796278881952688}. Best is trial 0 with value: 0.47241931678371074.\n",
      "[I 2025-05-28 16:11:12,031] Trial 17 finished with value: 0.47241931678371074 and parameters: {'alpha': 99.81573799564502, 'l1_ratio': 0.5843589789377958}. Best is trial 0 with value: 0.47241931678371074.\n",
      "[I 2025-05-28 16:11:13,625] Trial 18 finished with value: 0.47241931678371074 and parameters: {'alpha': 83.96659528643895, 'l1_ratio': 0.18722424294672566}. Best is trial 0 with value: 0.47241931678371074.\n",
      "[I 2025-05-28 16:11:15,378] Trial 19 finished with value: 0.47241931678371074 and parameters: {'alpha': 0.035194408104849195, 'l1_ratio': 0.7482088346933419}. Best is trial 0 with value: 0.47241931678371074.\n"
     ]
    },
    {
     "name": "stdout",
     "output_type": "stream",
     "text": [
      "Best params for ElasticNet: {'alpha': 98.71719091044865, 'l1_ratio': 0.18971073784643555} /n Best Score: 0.47241931678371074\n"
     ]
    }
   ],
   "source": [
    "best_enet_params = optimize_model(objective_enet, 'ElasticNet')"
   ]
  },
  {
   "cell_type": "markdown",
   "id": "964753df",
   "metadata": {
    "papermill": {
     "duration": 0.014597,
     "end_time": "2025-05-12T16:17:57.313585",
     "exception": false,
     "start_time": "2025-05-12T16:17:57.298988",
     "status": "completed"
    },
    "tags": []
   },
   "source": [
    "# Evaluation"
   ]
  },
  {
   "cell_type": "code",
   "execution_count": 33,
   "id": "44ffc2cb",
   "metadata": {
    "execution": {
     "iopub.execute_input": "2025-05-12T16:17:57.344378Z",
     "iopub.status.busy": "2025-05-12T16:17:57.344034Z",
     "iopub.status.idle": "2025-05-12T16:20:41.017607Z",
     "shell.execute_reply": "2025-05-12T16:20:41.016621Z"
    },
    "papermill": {
     "duration": 163.704866,
     "end_time": "2025-05-12T16:20:41.032831",
     "exception": false,
     "start_time": "2025-05-12T16:17:57.327965",
     "status": "completed"
    },
    "tags": []
   },
   "outputs": [
    {
     "name": "stdout",
     "output_type": "stream",
     "text": [
      "\n",
      "Test RSME scores:\n",
      "knn: 0.2336\n",
      "xgb: 0.2218\n",
      "enet: 0.4755\n"
     ]
    }
   ],
   "source": [
    "# Well even with some normalization regression performs quite poorly. \n",
    "# Xgboost and Knn are actually quite close which is impressive.\n",
    "# Since I've used cross validation unsurprisingly the models fit pretty similarly to the training sets which is very good\n",
    "# XGB actually fits better to the test data which is quite interesting. \n",
    "from sklearn.metrics import root_mean_squared_error\n",
    "models = {\n",
    "    'knn': KNeighborsRegressor(n_neighbors=best_knn_params['n_neighbors']),\n",
    "    'xgb': XGBRegressor(reg_lambda=best_xgb_params['lambda'], \n",
    "                        reg_alpha=best_xgb_params['alpha'], \n",
    "                        random_state=66),\n",
    "    'enet': ElasticNet(alpha=best_enet_params['alpha'], \n",
    "                       l1_ratio=best_enet_params['l1_ratio'], \n",
    "                       random_state=66)\n",
    "}\n",
    "\n",
    "test_scores = {}\n",
    "\n",
    "\n",
    "for name, model in models.items():\n",
    "    pipeline = Pipeline([\n",
    "        ('preprocessor', preprocessor),\n",
    "        ('regressor', model)\n",
    "    ])\n",
    "    pipeline.fit(X_train_fin, y_train_fin)\n",
    "    y_pred = pipeline.predict(X_test_fin)\n",
    "    rsme = root_mean_squared_error(y_test,y_pred)\n",
    "    test_scores[name] = rsme\n",
    "\n",
    "\n",
    "print(\"\\nTest RSME scores:\")\n",
    "for name, score in test_scores.items():\n",
    "    print(f\"{name}: {score:.4f}\")"
   ]
  },
  {
   "cell_type": "markdown",
   "id": "5e26eb62",
   "metadata": {
    "papermill": {
     "duration": 0.016201,
     "end_time": "2025-05-12T16:20:41.066341",
     "exception": false,
     "start_time": "2025-05-12T16:20:41.050140",
     "status": "completed"
    },
    "tags": []
   },
   "source": [
    "These results are fairly unsurprising. Regression is quite inflexible and often tends to be outperformed on data that isn't very linear. Also considering how many features there are it makes sense regression does not do that well here. KNN and XGB both are much more flexible at the cost of potentially overfitting although in this case they did not. Notably XGB did predict some negative values, and also KNN chose one of the lowest values of neighbors as the best model likely as the resulted in the least overfitting. Since we are essentially doing regression all the outputs of the models here are quite interpretable. We would just need to reverse the box-cox operation to actually understand the values generated as predictions."
   ]
  }
 ],
 "metadata": {
  "kaggle": {
   "accelerator": "none",
   "dataSources": [],
   "dockerImageVersionId": 31012,
   "isGpuEnabled": false,
   "isInternetEnabled": true,
   "language": "python",
   "sourceType": "notebook"
  },
  "kernelspec": {
   "display_name": "python-3.12.10",
   "language": "python",
   "name": "python3"
  },
  "language_info": {
   "codemirror_mode": {
    "name": "ipython",
    "version": 3
   },
   "file_extension": ".py",
   "mimetype": "text/x-python",
   "name": "python",
   "nbconvert_exporter": "python",
   "pygments_lexer": "ipython3",
   "version": "3.12.10"
  },
  "papermill": {
   "default_parameters": {},
   "duration": 5384.145885,
   "end_time": "2025-05-12T16:20:43.829854",
   "environment_variables": {},
   "exception": null,
   "input_path": "__notebook__.ipynb",
   "output_path": "__notebook__.ipynb",
   "parameters": {},
   "start_time": "2025-05-12T14:50:59.683969",
   "version": "2.6.0"
  }
 },
 "nbformat": 4,
 "nbformat_minor": 5
}
